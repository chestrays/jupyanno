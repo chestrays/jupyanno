{
 "cells": [
  {
   "cell_type": "markdown",
   "metadata": {},
   "source": [
    "Liebe Kollegen,\n",
    "\n",
    "im Zuge der Entwicklung eines Tools zur Annotation radiologischer Bilder möchten wir einen kleinen Feldversuch durchführen. Dazu brauchen wir Eure Hilfe.\n",
    "\n",
    "Euch werden 50 konventionelle Thorax-Röntgen angezeigt. Zu jedem Bild müsst ihr lediglich entscheiden, ob die gefragte Pathologie vorliegt oder nicht. Es gibt nur die Antwortmöglichkeiten „Ja“ oder „Nein“. Auf einen „Ich weiss nicht“-Button wurde absichtlich verzichtet. \n",
    "\n",
    "Entscheidet euch also für die Antwort, die Euch unter der gegebenen einfachen Funktionalität des Viewers (einfacher Zoom, kein Fenstern) am wahrscheinlichsten erscheint.  Wir möchte euch bitten, die Aufgabe in einer Sitzung durchzuführen (Dauer: ca. 8 Minuten).\n",
    "\n",
    "Um auf einen Bereich zu zoomen kann man mit der Maus auf das Bild klicken und eine Region aufziehen. Um wieder heraus zu zoomen: Doppelklick auf das Bild.\n",
    "\n",
    "Am Ende wird euch über ein Freitextfeld noch die Möglichkeit zu Kommentaren gegeben. Über den zweiten Link („Result“) könnt ihr Eure Antworten mit der Ground Truth aus dem öffentlichen NIH-Datensatz vergleichen."
   ]
  },
  {
   "cell_type": "code",
   "execution_count": null,
   "metadata": {},
   "outputs": [],
   "source": [
    "%%HTML\n",
    "<!-- Global site tag(gtag.js) - Google Analytics - ->\n",
    "<script async src = \"https://www.googletagmanager.com/gtag/js?id=UA-123889833-1\" > </script >\n",
    "<script >\n",
    "    window.dataLayer = window.dataLayer | | []\n",
    "    function gtag(){dataLayer.push(arguments)\n",
    "                    }\n",
    "    gtag('js', new Date())\n",
    "\n",
    "    gtag('config', 'UA-123889833-1')\n",
    "</script >"
   ]
  },
  {
   "cell_type": "code",
   "execution_count": null,
   "metadata": {},
   "outputs": [],
   "source": [
    "import os, sys\n",
    "from time import time\n",
    "sys.path.append('.')\n",
    "import jupyanno as ja\n",
    "from jupyanno.widgets import BinaryClassTask, MultiClassTask\n",
    "from jupyanno.sheets import submit_response, get_questions\n",
    "import ipywidgets as ipw\n",
    "ja.setup_appmode()"
   ]
  },
  {
   "cell_type": "code",
   "execution_count": null,
   "metadata": {},
   "outputs": [],
   "source": [
    "from IPython.display import display\n",
    "USERNAME = ja._get_user_id()\n",
    "HOSTNAME = os.environ.get('HOSTNAME', 'anon')\n",
    "BINARY_TASK = True\n",
    "UNKNOWN_OPTION = None\n",
    "ITEMS_TO_PROCESS = 50\n",
    "SHOW_WINDOW_TOOLS = False"
   ]
  },
  {
   "cell_type": "code",
   "execution_count": null,
   "metadata": {},
   "outputs": [],
   "source": [
    "annotation_task = ja.read_task_file('task.json')"
   ]
  },
  {
   "cell_type": "code",
   "execution_count": null,
   "metadata": {},
   "outputs": [],
   "source": [
    "category_ids = sorted(\n",
    "    annotation_task.data_df[annotation_task.label_col].unique().tolist())\n",
    "if (UNKNOWN_OPTION is not None) and not BINARY_TASK:\n",
    "    category_ids += [UNKNOWN_OPTION]"
   ]
  },
  {
   "cell_type": "code",
   "execution_count": null,
   "metadata": {},
   "outputs": [],
   "source": [
    "START_TASK_TIME = time()\n",
    "FORM_URL = annotation_task.task['google_forms']['form_url']\n",
    "anno_questions = get_questions(FORM_URL)\n",
    "COMMIT_ID = !git rev-parse HEAD\n",
    "\n",
    "def submit_label(task_result):\n",
    "    \"\"\"\n",
    "    the connection to the backend\n",
    "    \"\"\"\n",
    "    submit_response(FORM_URL, anno_questions,\n",
    "                    annotator=USERNAME,\n",
    "                    session=HOSTNAME,\n",
    "                    time=time()-START_TASK_TIME,\n",
    "                    item_id=task_result.item_id,\n",
    "                    label=task_result.label,\n",
    "                    task=task_result.task,\n",
    "                    annotation_mode=task_result.annotation_mode,\n",
    "                    viewing_info=task_result.viewing_info,\n",
    "                    commit_info=COMMIT_ID[0],\n",
    "                    comments=task_result.comment\n",
    "                    )"
   ]
  },
  {
   "cell_type": "code",
   "execution_count": null,
   "metadata": {
    "scrolled": true
   },
   "outputs": [],
   "source": [
    "title_box = ipw.HTML(value='<h1> Welcome {}</h1>'.format(USERNAME.replace('_', ' ')))\n",
    "if BINARY_TASK:\n",
    "    task_widget = BinaryClassTask(category_ids, \n",
    "                                  annotation_task,\n",
    "                                  unknown_option=UNKNOWN_OPTION,\n",
    "                                  max_count=ITEMS_TO_PROCESS)\n",
    "else:\n",
    "    task_widget = MultiClassTask(category_ids, annotation_task,\n",
    "                                 max_count=ITEMS_TO_PROCESS)\n",
    "task_widget.on_submit(submit_label)\n",
    "ipw.VBox([title_box,\n",
    "          task_widget.get_widget()])"
   ]
  },
  {
   "cell_type": "code",
   "execution_count": null,
   "metadata": {},
   "outputs": [],
   "source": []
  }
 ],
 "metadata": {
  "kernel_info": {
   "name": "python3"
  },
  "kernelspec": {
   "display_name": "Python 3",
   "language": "python",
   "name": "python3"
  },
  "language_info": {
   "codemirror_mode": {
    "name": "ipython",
    "version": 3
   },
   "file_extension": ".py",
   "mimetype": "text/x-python",
   "name": "python",
   "nbconvert_exporter": "python",
   "pygments_lexer": "ipython3",
   "version": "3.6.3"
  },
  "nteract": {
   "version": "0.11.2"
  }
 },
 "nbformat": 4,
 "nbformat_minor": 2
}
